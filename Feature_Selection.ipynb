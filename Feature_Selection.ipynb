{
  "cells": [
    {
      "cell_type": "code",
      "execution_count": null,
      "metadata": {
        "id": "xRkxs2RXs03E"
      },
      "outputs": [],
      "source": [
        "import os\n",
        "import numpy as np\n",
        "import pandas as pd\n",
        "import matplotlib.pyplot as plt\n",
        "from tqdm import tqdm\n",
        "\n",
        "from sklearn.ensemble import RandomForestClassifier\n",
        "from sklearn.svm import SVC, LinearSVC\n",
        "from sklearn.feature_selection import RFE, RFECV\n",
        "from sklearn.model_selection import RepeatedStratifiedKFold\n",
        "from sklearn.metrics import (\n",
        "    accuracy_score,\n",
        "    confusion_matrix,\n",
        "    ConfusionMatrixDisplay\n",
        ")\n"
      ]
    },
    {
      "cell_type": "code",
      "execution_count": null,
      "metadata": {
        "colab": {
          "base_uri": "https://localhost:8080/",
          "height": 256
        },
        "id": "aUt_fzxNs44m",
        "outputId": "33c366d8-ecd7-497e-8311-2cd72dbae194"
      },
      "outputs": [
        {
          "data": {
            "text/html": [
              "<div>\n",
              "<style scoped>\n",
              "    .dataframe tbody tr th:only-of-type {\n",
              "        vertical-align: middle;\n",
              "    }\n",
              "\n",
              "    .dataframe tbody tr th {\n",
              "        vertical-align: top;\n",
              "    }\n",
              "\n",
              "    .dataframe thead th {\n",
              "        text-align: right;\n",
              "    }\n",
              "</style>\n",
              "<table border=\"1\" class=\"dataframe\">\n",
              "  <thead>\n",
              "    <tr style=\"text-align: right;\">\n",
              "      <th></th>\n",
              "      <th>chroma_1</th>\n",
              "      <th>chroma_2</th>\n",
              "      <th>chroma_3</th>\n",
              "      <th>chroma_4</th>\n",
              "      <th>chroma_5</th>\n",
              "      <th>chroma_6</th>\n",
              "      <th>chroma_7</th>\n",
              "      <th>chroma_8</th>\n",
              "      <th>chroma_9</th>\n",
              "      <th>chroma_10</th>\n",
              "      <th>...</th>\n",
              "      <th>mfcc_12</th>\n",
              "      <th>mfcc_13</th>\n",
              "      <th>mfcc_14</th>\n",
              "      <th>mfcc_15</th>\n",
              "      <th>mfcc_16</th>\n",
              "      <th>mfcc_17</th>\n",
              "      <th>mfcc_18</th>\n",
              "      <th>mfcc_19</th>\n",
              "      <th>mfcc_20</th>\n",
              "      <th>label</th>\n",
              "    </tr>\n",
              "  </thead>\n",
              "  <tbody>\n",
              "    <tr>\n",
              "      <th>0</th>\n",
              "      <td>0.715236</td>\n",
              "      <td>0.693741</td>\n",
              "      <td>0.673291</td>\n",
              "      <td>0.675155</td>\n",
              "      <td>0.718251</td>\n",
              "      <td>0.703219</td>\n",
              "      <td>0.706388</td>\n",
              "      <td>0.757179</td>\n",
              "      <td>0.673783</td>\n",
              "      <td>0.617892</td>\n",
              "      <td>...</td>\n",
              "      <td>0.438356</td>\n",
              "      <td>0.592341</td>\n",
              "      <td>0.422709</td>\n",
              "      <td>0.600324</td>\n",
              "      <td>0.491890</td>\n",
              "      <td>0.654020</td>\n",
              "      <td>0.516087</td>\n",
              "      <td>0.745383</td>\n",
              "      <td>0.426049</td>\n",
              "      <td>0</td>\n",
              "    </tr>\n",
              "    <tr>\n",
              "      <th>1</th>\n",
              "      <td>0.638202</td>\n",
              "      <td>0.539125</td>\n",
              "      <td>0.413576</td>\n",
              "      <td>0.500710</td>\n",
              "      <td>0.633080</td>\n",
              "      <td>0.634422</td>\n",
              "      <td>0.585670</td>\n",
              "      <td>0.579234</td>\n",
              "      <td>0.597464</td>\n",
              "      <td>0.582047</td>\n",
              "      <td>...</td>\n",
              "      <td>0.351815</td>\n",
              "      <td>0.528008</td>\n",
              "      <td>0.416186</td>\n",
              "      <td>0.631978</td>\n",
              "      <td>0.522208</td>\n",
              "      <td>0.740917</td>\n",
              "      <td>0.466066</td>\n",
              "      <td>0.713554</td>\n",
              "      <td>0.401167</td>\n",
              "      <td>0</td>\n",
              "    </tr>\n",
              "    <tr>\n",
              "      <th>2</th>\n",
              "      <td>0.300166</td>\n",
              "      <td>0.289997</td>\n",
              "      <td>0.279196</td>\n",
              "      <td>0.318552</td>\n",
              "      <td>0.343168</td>\n",
              "      <td>0.292658</td>\n",
              "      <td>0.251033</td>\n",
              "      <td>0.396900</td>\n",
              "      <td>0.611866</td>\n",
              "      <td>0.711495</td>\n",
              "      <td>...</td>\n",
              "      <td>0.113269</td>\n",
              "      <td>0.463730</td>\n",
              "      <td>0.372439</td>\n",
              "      <td>0.567525</td>\n",
              "      <td>0.539345</td>\n",
              "      <td>0.616263</td>\n",
              "      <td>0.191980</td>\n",
              "      <td>0.342027</td>\n",
              "      <td>0.198181</td>\n",
              "      <td>1</td>\n",
              "    </tr>\n",
              "    <tr>\n",
              "      <th>3</th>\n",
              "      <td>0.697828</td>\n",
              "      <td>0.647420</td>\n",
              "      <td>0.581630</td>\n",
              "      <td>0.592989</td>\n",
              "      <td>0.683064</td>\n",
              "      <td>0.710182</td>\n",
              "      <td>0.698529</td>\n",
              "      <td>0.667966</td>\n",
              "      <td>0.691158</td>\n",
              "      <td>0.685162</td>\n",
              "      <td>...</td>\n",
              "      <td>0.419216</td>\n",
              "      <td>0.668173</td>\n",
              "      <td>0.503341</td>\n",
              "      <td>0.626000</td>\n",
              "      <td>0.538417</td>\n",
              "      <td>0.697739</td>\n",
              "      <td>0.478217</td>\n",
              "      <td>0.811338</td>\n",
              "      <td>0.518223</td>\n",
              "      <td>0</td>\n",
              "    </tr>\n",
              "    <tr>\n",
              "      <th>4</th>\n",
              "      <td>0.370128</td>\n",
              "      <td>0.508962</td>\n",
              "      <td>0.492916</td>\n",
              "      <td>0.391020</td>\n",
              "      <td>0.363103</td>\n",
              "      <td>0.367662</td>\n",
              "      <td>0.399747</td>\n",
              "      <td>0.469762</td>\n",
              "      <td>0.498174</td>\n",
              "      <td>0.399316</td>\n",
              "      <td>...</td>\n",
              "      <td>0.409716</td>\n",
              "      <td>0.630644</td>\n",
              "      <td>0.338582</td>\n",
              "      <td>0.540950</td>\n",
              "      <td>0.436101</td>\n",
              "      <td>0.765488</td>\n",
              "      <td>0.450831</td>\n",
              "      <td>0.634361</td>\n",
              "      <td>0.329778</td>\n",
              "      <td>1</td>\n",
              "    </tr>\n",
              "  </tbody>\n",
              "</table>\n",
              "<p>5 rows × 38 columns</p>\n",
              "</div>"
            ],
            "text/plain": [
              "   chroma_1  chroma_2  chroma_3  chroma_4  chroma_5  chroma_6  chroma_7  \\\n",
              "0  0.715236  0.693741  0.673291  0.675155  0.718251  0.703219  0.706388   \n",
              "1  0.638202  0.539125  0.413576  0.500710  0.633080  0.634422  0.585670   \n",
              "2  0.300166  0.289997  0.279196  0.318552  0.343168  0.292658  0.251033   \n",
              "3  0.697828  0.647420  0.581630  0.592989  0.683064  0.710182  0.698529   \n",
              "4  0.370128  0.508962  0.492916  0.391020  0.363103  0.367662  0.399747   \n",
              "\n",
              "   chroma_8  chroma_9  chroma_10  ...   mfcc_12   mfcc_13   mfcc_14   mfcc_15  \\\n",
              "0  0.757179  0.673783   0.617892  ...  0.438356  0.592341  0.422709  0.600324   \n",
              "1  0.579234  0.597464   0.582047  ...  0.351815  0.528008  0.416186  0.631978   \n",
              "2  0.396900  0.611866   0.711495  ...  0.113269  0.463730  0.372439  0.567525   \n",
              "3  0.667966  0.691158   0.685162  ...  0.419216  0.668173  0.503341  0.626000   \n",
              "4  0.469762  0.498174   0.399316  ...  0.409716  0.630644  0.338582  0.540950   \n",
              "\n",
              "    mfcc_16   mfcc_17   mfcc_18   mfcc_19   mfcc_20  label  \n",
              "0  0.491890  0.654020  0.516087  0.745383  0.426049      0  \n",
              "1  0.522208  0.740917  0.466066  0.713554  0.401167      0  \n",
              "2  0.539345  0.616263  0.191980  0.342027  0.198181      1  \n",
              "3  0.538417  0.697739  0.478217  0.811338  0.518223      0  \n",
              "4  0.436101  0.765488  0.450831  0.634361  0.329778      1  \n",
              "\n",
              "[5 rows x 38 columns]"
            ]
          },
          "execution_count": 6,
          "metadata": {},
          "output_type": "execute_result"
        }
      ],
      "source": [
        "df_train = pd.read_csv(\"numeric_train_data.csv\")\n",
        "df_test = pd.read_csv(\"numeric_test_data.csv\")\n",
        "df_train.head(5)\n",
        "df_test.head(5)"
      ]
    },
    {
      "cell_type": "code",
      "execution_count": 7,
      "metadata": {
        "id": "moF6EyCks7AM"
      },
      "outputs": [],
      "source": [
        "# Acak urutan baris pada dataset train dan test\n",
        "# df_train = df_train.sample(frac=1, random_state=42).reset_index(drop=True)\n",
        "# df_test  = df_test.sample(frac=1, random_state=42).reset_index(drop=True)\n",
        "\n",
        "# Pisahkan fitur (X) dan label (y)\n",
        "X_train = df_train.iloc[:, :-1]\n",
        "y_train = df_train.iloc[:, -1]\n",
        "\n",
        "X_test = df_test.iloc[:, :-1]\n",
        "y_test = df_test.iloc[:, -1]\n"
      ]
    },
    {
      "cell_type": "code",
      "execution_count": null,
      "metadata": {
        "colab": {
          "base_uri": "https://localhost:8080/"
        },
        "id": "8ubUrs69tFeN",
        "outputId": "98d89bf7-434d-4def-ab6b-e5c0c521603b"
      },
      "outputs": [
        {
          "name": "stderr",
          "output_type": "stream",
          "text": [
            "  5%|▌         | 1/20 [01:23<26:28, 83.60s/it]"
          ]
        },
        {
          "name": "stdout",
          "output_type": "stream",
          "text": [
            "✔️ Feature set with 1 features saved.\n"
          ]
        },
        {
          "name": "stderr",
          "output_type": "stream",
          "text": [
            " 10%|█         | 2/20 [02:55<26:29, 88.31s/it]"
          ]
        },
        {
          "name": "stdout",
          "output_type": "stream",
          "text": [
            "✔️ Feature set with 2 features saved.\n"
          ]
        },
        {
          "name": "stderr",
          "output_type": "stream",
          "text": [
            " 15%|█▌        | 3/20 [04:25<25:13, 89.01s/it]"
          ]
        },
        {
          "name": "stdout",
          "output_type": "stream",
          "text": [
            "✔️ Feature set with 3 features saved.\n"
          ]
        },
        {
          "name": "stderr",
          "output_type": "stream",
          "text": [
            " 20%|██        | 4/20 [05:54<23:48, 89.27s/it]"
          ]
        },
        {
          "name": "stdout",
          "output_type": "stream",
          "text": [
            "✔️ Feature set with 4 features saved.\n"
          ]
        },
        {
          "name": "stderr",
          "output_type": "stream",
          "text": [
            " 25%|██▌       | 5/20 [07:23<22:16, 89.13s/it]"
          ]
        },
        {
          "name": "stdout",
          "output_type": "stream",
          "text": [
            "✔️ Feature set with 5 features saved.\n"
          ]
        },
        {
          "name": "stderr",
          "output_type": "stream",
          "text": [
            " 30%|███       | 6/20 [08:51<20:40, 88.62s/it]"
          ]
        },
        {
          "name": "stdout",
          "output_type": "stream",
          "text": [
            "✔️ Feature set with 6 features saved.\n"
          ]
        },
        {
          "name": "stderr",
          "output_type": "stream",
          "text": [
            " 35%|███▌      | 7/20 [10:16<18:58, 87.60s/it]"
          ]
        },
        {
          "name": "stdout",
          "output_type": "stream",
          "text": [
            "✔️ Feature set with 7 features saved.\n"
          ]
        },
        {
          "name": "stderr",
          "output_type": "stream",
          "text": [
            " 40%|████      | 8/20 [11:40<17:17, 86.43s/it]"
          ]
        },
        {
          "name": "stdout",
          "output_type": "stream",
          "text": [
            "✔️ Feature set with 8 features saved.\n"
          ]
        },
        {
          "name": "stderr",
          "output_type": "stream",
          "text": [
            " 45%|████▌     | 9/20 [13:04<15:41, 85.56s/it]"
          ]
        },
        {
          "name": "stdout",
          "output_type": "stream",
          "text": [
            "✔️ Feature set with 9 features saved.\n"
          ]
        },
        {
          "name": "stderr",
          "output_type": "stream",
          "text": [
            " 50%|█████     | 10/20 [14:26<14:06, 84.65s/it]"
          ]
        },
        {
          "name": "stdout",
          "output_type": "stream",
          "text": [
            "✔️ Feature set with 10 features saved.\n"
          ]
        },
        {
          "name": "stderr",
          "output_type": "stream",
          "text": [
            " 55%|█████▌    | 11/20 [15:44<12:22, 82.47s/it]"
          ]
        },
        {
          "name": "stdout",
          "output_type": "stream",
          "text": [
            "✔️ Feature set with 11 features saved.\n"
          ]
        },
        {
          "name": "stderr",
          "output_type": "stream",
          "text": [
            " 60%|██████    | 12/20 [17:03<10:52, 81.53s/it]"
          ]
        },
        {
          "name": "stdout",
          "output_type": "stream",
          "text": [
            "✔️ Feature set with 12 features saved.\n"
          ]
        },
        {
          "name": "stderr",
          "output_type": "stream",
          "text": [
            " 65%|██████▌   | 13/20 [18:20<09:19, 79.97s/it]"
          ]
        },
        {
          "name": "stdout",
          "output_type": "stream",
          "text": [
            "✔️ Feature set with 13 features saved.\n"
          ]
        },
        {
          "name": "stderr",
          "output_type": "stream",
          "text": [
            " 70%|███████   | 14/20 [19:34<07:49, 78.33s/it]"
          ]
        },
        {
          "name": "stdout",
          "output_type": "stream",
          "text": [
            "✔️ Feature set with 14 features saved.\n"
          ]
        },
        {
          "name": "stderr",
          "output_type": "stream",
          "text": [
            " 75%|███████▌  | 15/20 [20:47<06:23, 76.62s/it]"
          ]
        },
        {
          "name": "stdout",
          "output_type": "stream",
          "text": [
            "✔️ Feature set with 15 features saved.\n"
          ]
        },
        {
          "name": "stderr",
          "output_type": "stream",
          "text": [
            " 80%|████████  | 16/20 [22:00<05:02, 75.54s/it]"
          ]
        },
        {
          "name": "stdout",
          "output_type": "stream",
          "text": [
            "✔️ Feature set with 16 features saved.\n"
          ]
        },
        {
          "name": "stderr",
          "output_type": "stream",
          "text": [
            " 85%|████████▌ | 17/20 [23:11<03:42, 74.25s/it]"
          ]
        },
        {
          "name": "stdout",
          "output_type": "stream",
          "text": [
            "✔️ Feature set with 17 features saved.\n"
          ]
        },
        {
          "name": "stderr",
          "output_type": "stream",
          "text": [
            " 90%|█████████ | 18/20 [24:19<02:24, 72.42s/it]"
          ]
        },
        {
          "name": "stdout",
          "output_type": "stream",
          "text": [
            "✔️ Feature set with 18 features saved.\n"
          ]
        },
        {
          "name": "stderr",
          "output_type": "stream",
          "text": [
            " 95%|█████████▌| 19/20 [25:25<01:10, 70.45s/it]"
          ]
        },
        {
          "name": "stdout",
          "output_type": "stream",
          "text": [
            "✔️ Feature set with 19 features saved.\n"
          ]
        },
        {
          "name": "stderr",
          "output_type": "stream",
          "text": [
            "100%|██████████| 20/20 [26:29<00:00, 79.45s/it]"
          ]
        },
        {
          "name": "stdout",
          "output_type": "stream",
          "text": [
            "✔️ Feature set with 20 features saved.\n"
          ]
        },
        {
          "name": "stderr",
          "output_type": "stream",
          "text": [
            "\n"
          ]
        }
      ],
      "source": [
        "\n",
        "# Initialize model and CV\n",
        "rf = RandomForestClassifier(n_estimators=100, random_state=42, n_jobs=-1)\n",
        "cv = RepeatedStratifiedKFold(n_splits=5, n_repeats=6, random_state=42)\n",
        "\n",
        "# Output file path\n",
        "output_path = 'custom_rfecv_results_rf.csv'\n",
        "\n",
        "# Remove file if exists (only once, at start)\n",
        "if os.path.exists(output_path):\n",
        "    os.remove(output_path)\n",
        "\n",
        "# Loop over number of features\n",
        "for k in tqdm(range(1, X_train.shape[1] + 1)):  # 1 to total number of features\n",
        "    rfe = RFE(estimator=rf, n_features_to_select=k, step=1)\n",
        "    X_train_rfe = rfe.fit_transform(X_train, y_train)\n",
        "\n",
        "    temp_results = []\n",
        "\n",
        "    for rep_id, (train_idx, test_idx) in enumerate(cv.split(X_train_rfe, y_train)):\n",
        "        X_tr, X_te = X_train_rfe[train_idx], X_train_rfe[test_idx]\n",
        "        y_tr, y_te = y_train[train_idx], y_train[test_idx]\n",
        "\n",
        "        rf.fit(X_tr, y_tr)\n",
        "        y_pred = rf.predict(X_te)\n",
        "        acc = accuracy_score(y_te, y_pred)\n",
        "\n",
        "        temp_results.append({\n",
        "            \"n_features\": k,\n",
        "            \"repetition\": rep_id,\n",
        "            \"accuracy\": acc\n",
        "        })\n",
        "\n",
        "    # Append to CSV after each k\n",
        "    pd.DataFrame(temp_results).to_csv(output_path, mode='a', header=not os.path.exists(output_path), index=False)\n",
        "\n",
        "    print(f\"✔️ Feature set with {k} features saved.\")\n"
      ]
    },
    {
      "cell_type": "code",
      "execution_count": null,
      "metadata": {},
      "outputs": [
        {
          "name": "stdout",
          "output_type": "stream",
          "text": [
            "    n_features      mean       std        se\n",
            "0            1  0.648500  0.006408  0.001170\n",
            "1            2  0.740038  0.005297  0.000967\n",
            "2            3  0.777899  0.005788  0.001057\n",
            "3            4  0.803372  0.005218  0.000953\n",
            "4            5  0.812118  0.004737  0.000865\n",
            "5            6  0.828245  0.005009  0.000914\n",
            "6            7  0.837554  0.004610  0.000842\n",
            "7            8  0.850261  0.004139  0.000756\n",
            "8            9  0.857308  0.005168  0.000944\n",
            "9           10  0.866150  0.004208  0.000768\n",
            "10          11  0.873546  0.004789  0.000874\n",
            "11          12  0.878605  0.004911  0.000897\n",
            "12          13  0.885252  0.004174  0.000762\n",
            "13          14  0.891690  0.004052  0.000740\n",
            "14          15  0.896883  0.004115  0.000751\n",
            "15          16  0.898292  0.003070  0.000561\n",
            "16          17  0.898827  0.004377  0.000799\n",
            "17          18  0.903463  0.004502  0.000822\n",
            "18          19  0.904227  0.004099  0.000748\n",
            "19          20  0.906096  0.004521  0.000825\n",
            "20          21  0.906890  0.003497  0.000639\n",
            "21          22  0.906890  0.004485  0.000819\n",
            "22          23  0.907609  0.004464  0.000815\n",
            "23          24  0.908907  0.004132  0.000754\n",
            "24          25  0.909404  0.004072  0.000743\n",
            "25          26  0.909256  0.003760  0.000687\n",
            "26          27  0.909924  0.004129  0.000754\n",
            "27          28  0.909590  0.005027  0.000918\n",
            "28          29  0.909026  0.004233  0.000773\n",
            "29          30  0.909412  0.005036  0.000919\n",
            "30          31  0.911252  0.003970  0.000725\n",
            "31          32  0.912795  0.004493  0.000820\n",
            "32          33  0.913232  0.004310  0.000787\n",
            "33          34  0.913358  0.003891  0.000710\n",
            "34          35  0.915235  0.004481  0.000818\n",
            "35          36  0.915057  0.004359  0.000796\n",
            "36          37  0.914530  0.004057  0.000741\n"
          ]
        },
        {
          "data": {
            "image/png": "[encoded data removed]",
            "text/plain": [
              "<Figure size 1000x600 with 1 Axes>"
            ]
          },
          "metadata": {},
          "output_type": "display_data"
        }
      ],
      "source": [
        "# Baca data hasil RFECV jika belum ada di memori\n",
        "df_custom_rfecv = pd.read_csv('custom_rfecv_results.csv', sep=\";\")  # ganti nama file jika SVM\n",
        "\n",
        "# Ringkasan statistik: rata-rata, standar deviasi, dan standard error\n",
        "summary = df_custom_rfecv.groupby('n_features')['accuracy'].agg(['mean', 'std']).reset_index()\n",
        "summary['se'] = summary['std'] / np.sqrt(30)  # karena 5x5 = 25 evaluasi per jumlah fitur\n",
        "\n",
        "# Tampilkan DataFrame summary (opsional)\n",
        "print(summary)\n",
        "\n",
        "# Plot akurasi dengan error bar (SE)\n",
        "plt.figure(figsize=(10, 6))\n",
        "plt.errorbar(summary['n_features'], summary['mean'], yerr=summary['se'], fmt='-o', capsize=4)\n",
        "plt.xlabel(\"Number of Features\")\n",
        "plt.ylabel(\"CV Accuracy (mean ± SE)\")\n",
        "plt.title(\"Custom RFECV with 5×5 Repeats\")\n",
        "plt.grid(True)\n",
        "plt.tight_layout()\n",
        "plt.show()\n"
      ]
    },
    {
      "cell_type": "code",
      "execution_count": null,
      "metadata": {},
      "outputs": [],
      "source": [
        "summary.to_csv(\"summary_1se_rf.csv\", index=False)"
      ]
    },
    {
      "cell_type": "code",
      "execution_count": 34,
      "metadata": {},
      "outputs": [
        {
          "name": "stdout",
          "output_type": "stream",
          "text": [
            "✅ Best score (mean CV accuracy): 0.9152\n",
            "✅ Best SE: 0.0008\n",
            "🎯 1-SE Threshold: 0.9144\n",
            "🔍 Parsimonious number of features: 35.0\n",
            "📈 Accuracy at that point: 0.9152\n"
          ]
        }
      ],
      "source": [
        "# 1. Akurasi terbaik dan SE-nya\n",
        "best_row = summary.loc[summary['mean'].idxmax()]\n",
        "best_score = best_row['mean']\n",
        "best_se = best_row['se']\n",
        "threshold = best_score - best_se\n",
        "\n",
        "# 2. Cari jumlah fitur paling sedikit dengan akurasi >= threshold\n",
        "parsimonious_row = summary[summary['mean'] >= threshold].iloc[0]\n",
        "\n",
        "# 3. Hasil akhir\n",
        "print(\"✅ Best score (mean CV accuracy):\", round(best_score, 4))\n",
        "print(\"✅ Best SE:\", round(best_se, 4))\n",
        "print(\"🎯 1-SE Threshold:\", round(threshold, 4))\n",
        "print(\"🔍 Parsimonious number of features:\", parsimonious_row['n_features'])\n",
        "print(\"📈 Accuracy at that point:\", round(parsimonious_row['mean'], 4))\n"
      ]
    },
    {
      "cell_type": "code",
      "execution_count": null,
      "metadata": {
        "id": "nBoteKqauup1"
      },
      "outputs": [],
      "source": [
        "# Inisialisasi model\n",
        "rf = RandomForestClassifier(n_estimators=100, random_state=42, n_jobs=-1)\n",
        "\n",
        "# Pastikan X_train dalam bentuk DataFrame\n",
        "feature_names = X_train.columns\n",
        "\n",
        "\n",
        "\n",
        "k=35\n",
        "rfe = RFE(estimator=rf, n_features_to_select=k, step=1)\n",
        "rfe.fit(X_train, y_train)\n",
        "\n",
        "# Ambil nama fitur yang terpilih\n",
        "selected_features = feature_names[rfe.support_]\n",
        "\n",
        "print(f\"\\nFitur terpilih untuk k={k}:\")\n",
        "for i, name in enumerate(selected_features, 1):\n",
        "    print(f\"{i}. {name}\")\n"
      ]
    },
    {
      "cell_type": "markdown",
      "metadata": {},
      "source": [
        "## SVM Algorithm"
      ]
    },
    {
      "cell_type": "code",
      "execution_count": null,
      "metadata": {},
      "outputs": [
        {
          "name": "stderr",
          "output_type": "stream",
          "text": [
            "  3%|▎         | 1/37 [00:08<04:52,  8.13s/it]"
          ]
        },
        {
          "name": "stdout",
          "output_type": "stream",
          "text": [
            "✔️ Feature set with 1 features saved.\n"
          ]
        },
        {
          "name": "stderr",
          "output_type": "stream",
          "text": [
            "  5%|▌         | 2/37 [00:19<05:57, 10.22s/it]"
          ]
        },
        {
          "name": "stdout",
          "output_type": "stream",
          "text": [
            "✔️ Feature set with 2 features saved.\n"
          ]
        },
        {
          "name": "stderr",
          "output_type": "stream",
          "text": [
            "  8%|▊         | 3/37 [00:32<06:24, 11.31s/it]"
          ]
        },
        {
          "name": "stdout",
          "output_type": "stream",
          "text": [
            "✔️ Feature set with 3 features saved.\n"
          ]
        },
        {
          "name": "stderr",
          "output_type": "stream",
          "text": [
            " 11%|█         | 4/37 [00:44<06:28, 11.79s/it]"
          ]
        },
        {
          "name": "stdout",
          "output_type": "stream",
          "text": [
            "✔️ Feature set with 4 features saved.\n"
          ]
        },
        {
          "name": "stderr",
          "output_type": "stream",
          "text": [
            " 14%|█▎        | 5/37 [00:57<06:31, 12.24s/it]"
          ]
        },
        {
          "name": "stdout",
          "output_type": "stream",
          "text": [
            "✔️ Feature set with 5 features saved.\n"
          ]
        },
        {
          "name": "stderr",
          "output_type": "stream",
          "text": [
            " 16%|█▌        | 6/37 [01:11<06:27, 12.51s/it]"
          ]
        },
        {
          "name": "stdout",
          "output_type": "stream",
          "text": [
            "✔️ Feature set with 6 features saved.\n"
          ]
        },
        {
          "name": "stderr",
          "output_type": "stream",
          "text": [
            " 19%|█▉        | 7/37 [01:23<06:17, 12.60s/it]"
          ]
        },
        {
          "name": "stdout",
          "output_type": "stream",
          "text": [
            "✔️ Feature set with 7 features saved.\n"
          ]
        },
        {
          "name": "stderr",
          "output_type": "stream",
          "text": [
            " 22%|██▏       | 8/37 [01:35<05:54, 12.24s/it]"
          ]
        },
        {
          "name": "stdout",
          "output_type": "stream",
          "text": [
            "✔️ Feature set with 8 features saved.\n"
          ]
        },
        {
          "name": "stderr",
          "output_type": "stream",
          "text": [
            " 24%|██▍       | 9/37 [01:47<05:41, 12.19s/it]"
          ]
        },
        {
          "name": "stdout",
          "output_type": "stream",
          "text": [
            "✔️ Feature set with 9 features saved.\n"
          ]
        },
        {
          "name": "stderr",
          "output_type": "stream",
          "text": [
            " 27%|██▋       | 10/37 [02:00<05:33, 12.36s/it]"
          ]
        },
        {
          "name": "stdout",
          "output_type": "stream",
          "text": [
            "✔️ Feature set with 10 features saved.\n"
          ]
        },
        {
          "name": "stderr",
          "output_type": "stream",
          "text": [
            " 30%|██▉       | 11/37 [02:12<05:24, 12.46s/it]"
          ]
        },
        {
          "name": "stdout",
          "output_type": "stream",
          "text": [
            "✔️ Feature set with 11 features saved.\n"
          ]
        },
        {
          "name": "stderr",
          "output_type": "stream",
          "text": [
            " 32%|███▏      | 12/37 [02:25<05:10, 12.43s/it]"
          ]
        },
        {
          "name": "stdout",
          "output_type": "stream",
          "text": [
            "✔️ Feature set with 12 features saved.\n"
          ]
        },
        {
          "name": "stderr",
          "output_type": "stream",
          "text": [
            " 35%|███▌      | 13/37 [02:38<05:03, 12.63s/it]"
          ]
        },
        {
          "name": "stdout",
          "output_type": "stream",
          "text": [
            "✔️ Feature set with 13 features saved.\n"
          ]
        },
        {
          "name": "stderr",
          "output_type": "stream",
          "text": [
            " 38%|███▊      | 14/37 [02:57<05:36, 14.61s/it]"
          ]
        },
        {
          "name": "stdout",
          "output_type": "stream",
          "text": [
            "✔️ Feature set with 14 features saved.\n"
          ]
        },
        {
          "name": "stderr",
          "output_type": "stream",
          "text": [
            " 41%|████      | 15/37 [03:19<06:07, 16.72s/it]"
          ]
        },
        {
          "name": "stdout",
          "output_type": "stream",
          "text": [
            "✔️ Feature set with 15 features saved.\n"
          ]
        },
        {
          "name": "stderr",
          "output_type": "stream",
          "text": [
            " 43%|████▎     | 16/37 [03:38<06:07, 17.49s/it]"
          ]
        },
        {
          "name": "stdout",
          "output_type": "stream",
          "text": [
            "✔️ Feature set with 16 features saved.\n"
          ]
        },
        {
          "name": "stderr",
          "output_type": "stream",
          "text": [
            " 46%|████▌     | 17/37 [03:49<05:13, 15.66s/it]"
          ]
        },
        {
          "name": "stdout",
          "output_type": "stream",
          "text": [
            "✔️ Feature set with 17 features saved.\n"
          ]
        },
        {
          "name": "stderr",
          "output_type": "stream",
          "text": [
            " 49%|████▊     | 18/37 [04:00<04:29, 14.18s/it]"
          ]
        },
        {
          "name": "stdout",
          "output_type": "stream",
          "text": [
            "✔️ Feature set with 18 features saved.\n"
          ]
        },
        {
          "name": "stderr",
          "output_type": "stream",
          "text": [
            " 51%|█████▏    | 19/37 [04:12<04:04, 13.60s/it]"
          ]
        },
        {
          "name": "stdout",
          "output_type": "stream",
          "text": [
            "✔️ Feature set with 19 features saved.\n"
          ]
        },
        {
          "name": "stderr",
          "output_type": "stream",
          "text": [
            " 54%|█████▍    | 20/37 [04:25<03:45, 13.24s/it]"
          ]
        },
        {
          "name": "stdout",
          "output_type": "stream",
          "text": [
            "✔️ Feature set with 20 features saved.\n"
          ]
        },
        {
          "name": "stderr",
          "output_type": "stream",
          "text": [
            " 57%|█████▋    | 21/37 [04:38<03:33, 13.33s/it]"
          ]
        },
        {
          "name": "stdout",
          "output_type": "stream",
          "text": [
            "✔️ Feature set with 21 features saved.\n"
          ]
        },
        {
          "name": "stderr",
          "output_type": "stream",
          "text": [
            " 59%|█████▉    | 22/37 [04:49<03:09, 12.61s/it]"
          ]
        },
        {
          "name": "stdout",
          "output_type": "stream",
          "text": [
            "✔️ Feature set with 22 features saved.\n"
          ]
        },
        {
          "name": "stderr",
          "output_type": "stream",
          "text": [
            " 62%|██████▏   | 23/37 [05:00<02:48, 12.04s/it]"
          ]
        },
        {
          "name": "stdout",
          "output_type": "stream",
          "text": [
            "✔️ Feature set with 23 features saved.\n"
          ]
        },
        {
          "name": "stderr",
          "output_type": "stream",
          "text": [
            " 65%|██████▍   | 24/37 [05:09<02:26, 11.31s/it]"
          ]
        },
        {
          "name": "stdout",
          "output_type": "stream",
          "text": [
            "✔️ Feature set with 24 features saved.\n"
          ]
        },
        {
          "name": "stderr",
          "output_type": "stream",
          "text": [
            " 68%|██████▊   | 25/37 [05:18<02:06, 10.54s/it]"
          ]
        },
        {
          "name": "stdout",
          "output_type": "stream",
          "text": [
            "✔️ Feature set with 25 features saved.\n"
          ]
        },
        {
          "name": "stderr",
          "output_type": "stream",
          "text": [
            " 70%|███████   | 26/37 [05:27<01:49,  9.93s/it]"
          ]
        },
        {
          "name": "stdout",
          "output_type": "stream",
          "text": [
            "✔️ Feature set with 26 features saved.\n"
          ]
        },
        {
          "name": "stderr",
          "output_type": "stream",
          "text": [
            " 73%|███████▎  | 27/37 [05:35<01:36,  9.61s/it]"
          ]
        },
        {
          "name": "stdout",
          "output_type": "stream",
          "text": [
            "✔️ Feature set with 27 features saved.\n"
          ]
        },
        {
          "name": "stderr",
          "output_type": "stream",
          "text": [
            " 76%|███████▌  | 28/37 [05:44<01:24,  9.40s/it]"
          ]
        },
        {
          "name": "stdout",
          "output_type": "stream",
          "text": [
            "✔️ Feature set with 28 features saved.\n"
          ]
        },
        {
          "name": "stderr",
          "output_type": "stream",
          "text": [
            " 78%|███████▊  | 29/37 [05:53<01:13,  9.20s/it]"
          ]
        },
        {
          "name": "stdout",
          "output_type": "stream",
          "text": [
            "✔️ Feature set with 29 features saved.\n"
          ]
        },
        {
          "name": "stderr",
          "output_type": "stream",
          "text": [
            " 81%|████████  | 30/37 [06:02<01:03,  9.10s/it]"
          ]
        },
        {
          "name": "stdout",
          "output_type": "stream",
          "text": [
            "✔️ Feature set with 30 features saved.\n"
          ]
        },
        {
          "name": "stderr",
          "output_type": "stream",
          "text": [
            " 84%|████████▍ | 31/37 [06:11<00:54,  9.15s/it]"
          ]
        },
        {
          "name": "stdout",
          "output_type": "stream",
          "text": [
            "✔️ Feature set with 31 features saved.\n"
          ]
        },
        {
          "name": "stderr",
          "output_type": "stream",
          "text": [
            " 86%|████████▋ | 32/37 [06:21<00:46,  9.36s/it]"
          ]
        },
        {
          "name": "stdout",
          "output_type": "stream",
          "text": [
            "✔️ Feature set with 32 features saved.\n"
          ]
        },
        {
          "name": "stderr",
          "output_type": "stream",
          "text": [
            " 89%|████████▉ | 33/37 [06:30<00:37,  9.26s/it]"
          ]
        },
        {
          "name": "stdout",
          "output_type": "stream",
          "text": [
            "✔️ Feature set with 33 features saved.\n"
          ]
        },
        {
          "name": "stderr",
          "output_type": "stream",
          "text": [
            " 92%|█████████▏| 34/37 [06:39<00:27,  9.23s/it]"
          ]
        },
        {
          "name": "stdout",
          "output_type": "stream",
          "text": [
            "✔️ Feature set with 34 features saved.\n"
          ]
        },
        {
          "name": "stderr",
          "output_type": "stream",
          "text": [
            " 95%|█████████▍| 35/37 [06:49<00:19,  9.52s/it]"
          ]
        },
        {
          "name": "stdout",
          "output_type": "stream",
          "text": [
            "✔️ Feature set with 35 features saved.\n"
          ]
        },
        {
          "name": "stderr",
          "output_type": "stream",
          "text": [
            " 97%|█████████▋| 36/37 [07:00<00:09,  9.74s/it]"
          ]
        },
        {
          "name": "stdout",
          "output_type": "stream",
          "text": [
            "✔️ Feature set with 36 features saved.\n"
          ]
        },
        {
          "name": "stderr",
          "output_type": "stream",
          "text": [
            "100%|██████████| 37/37 [07:11<00:00, 11.65s/it]"
          ]
        },
        {
          "name": "stdout",
          "output_type": "stream",
          "text": [
            "✔️ Feature set with 37 features saved.\n"
          ]
        },
        {
          "name": "stderr",
          "output_type": "stream",
          "text": [
            "\n"
          ]
        }
      ],
      "source": [
        "# Inisialisasi model LinearSVC (lebih cepat dari SVC linear)\n",
        "svm = LinearSVC(C=1.0, max_iter=5000, dual=False, random_state=42)\n",
        "\n",
        "# Inisialisasi RepeatedStratifiedKFold: 5 fold × 6 repeat = 30 evaluasi per jumlah fitur\n",
        "cv = RepeatedStratifiedKFold(n_splits=5, n_repeats=6, random_state=42)\n",
        "\n",
        "# Path hasil output\n",
        "output_path = 'custom_rfecv_results_linearsvc.csv'\n",
        "\n",
        "# Hapus file jika sudah ada sebelumnya\n",
        "if os.path.exists(output_path):\n",
        "    os.remove(output_path)\n",
        "\n",
        "# Loop dari 1 fitur sampai seluruh fitur\n",
        "for k in tqdm(range(1, X_train.shape[1] + 1)):\n",
        "    rfe = RFE(estimator=svm, n_features_to_select=k, step=1)\n",
        "    X_train_rfe = rfe.fit_transform(X_train, y_train)\n",
        "\n",
        "    temp_results = []\n",
        "\n",
        "    for rep_id, (train_idx, test_idx) in enumerate(cv.split(X_train_rfe, y_train)):\n",
        "        X_tr, X_te = X_train_rfe[train_idx], X_train_rfe[test_idx]\n",
        "        y_tr, y_te = y_train[train_idx], y_train[test_idx]\n",
        "\n",
        "        svm.fit(X_tr, y_tr)\n",
        "        y_pred = svm.predict(X_te)\n",
        "        acc = accuracy_score(y_te, y_pred)\n",
        "\n",
        "        temp_results.append({\n",
        "            \"n_features\": k,\n",
        "            \"repetition\": rep_id,\n",
        "            \"accuracy\": acc\n",
        "        })\n",
        "\n",
        "    # Simpan hasil ke CSV setelah setiap jumlah fitur selesai\n",
        "    pd.DataFrame(temp_results).to_csv(output_path, mode='a', header=not os.path.exists(output_path), index=False)\n",
        "\n",
        "    print(f\"✔️ Feature set with {k} features saved.\")\n"
      ]
    },
    {
      "cell_type": "code",
      "execution_count": null,
      "metadata": {},
      "outputs": [
        {
          "name": "stdout",
          "output_type": "stream",
          "text": [
            "    n_features      mean       std        se\n",
            "0            1  0.728562  0.007213  0.001317\n",
            "1            2  0.745772  0.006561  0.001198\n",
            "2            3  0.762944  0.005594  0.001021\n",
            "3            4  0.784375  0.006100  0.001114\n",
            "4            5  0.783633  0.006427  0.001173\n",
            "5            6  0.787475  0.005869  0.001072\n",
            "6            7  0.793988  0.005009  0.000915\n",
            "7            8  0.800620  0.005588  0.001020\n",
            "8            9  0.807675  0.005499  0.001004\n",
            "9           10  0.815144  0.005216  0.000952\n",
            "10          11  0.818571  0.005288  0.000966\n",
            "11          12  0.819447  0.004896  0.000894\n",
            "12          13  0.819877  0.004991  0.000911\n",
            "13          14  0.824691  0.005421  0.000990\n",
            "14          15  0.825255  0.005030  0.000918\n",
            "15          16  0.827488  0.005092  0.000930\n",
            "16          17  0.831019  0.005008  0.000914\n",
            "17          18  0.834335  0.005388  0.000984\n",
            "18          19  0.836486  0.005875  0.001073\n",
            "19          20  0.836931  0.005884  0.001074\n",
            "20          21  0.836308  0.005493  0.001003\n",
            "21          22  0.838429  0.005500  0.001004\n",
            "22          23  0.839468  0.005582  0.001019\n",
            "23          24  0.840655  0.005485  0.001001\n",
            "24          25  0.843051  0.005474  0.000999\n",
            "25          26  0.843414  0.005329  0.000973\n",
            "26          27  0.843592  0.005836  0.001065\n",
            "27          28  0.843399  0.005348  0.000976\n",
            "28          29  0.842954  0.005540  0.001012\n",
            "29          30  0.843696  0.005330  0.000973\n",
            "30          31  0.843770  0.005106  0.000932\n",
            "31          32  0.843644  0.005342  0.000975\n",
            "32          33  0.843503  0.005225  0.000954\n",
            "33          34  0.843874  0.005204  0.000950\n",
            "34          35  0.843785  0.005119  0.000935\n",
            "35          36  0.843711  0.005289  0.000966\n",
            "36          37  0.843726  0.005237  0.000956\n"
          ]
        },
        {
          "data": {
            "image/png": "[encoded data removed]",
            "text/plain": [
              "<Figure size 1000x600 with 1 Axes>"
            ]
          },
          "metadata": {},
          "output_type": "display_data"
        }
      ],
      "source": [
        "# Baca data hasil RFECV jika belum ada di memori\n",
        "df_custom_rfecv = pd.read_csv('custom_rfecv_results_linearsvc.csv')  # ganti nama file jika SVM\n",
        "\n",
        "# Ringkasan statistik: rata-rata, standar deviasi, dan standard error\n",
        "summary = df_custom_rfecv.groupby('n_features')['accuracy'].agg(['mean', 'std']).reset_index()\n",
        "summary['se'] = summary['std'] / np.sqrt(30) \n",
        "\n",
        "# Tampilkan DataFrame summary (opsional)\n",
        "print(summary)\n",
        "\n",
        "# Plot akurasi dengan error bar (SE)\n",
        "plt.figure(figsize=(10, 6))\n",
        "plt.errorbar(summary['n_features'], summary['mean'], yerr=summary['se'], fmt='-o', capsize=4)\n",
        "plt.xlabel(\"Number of Features\")\n",
        "plt.ylabel(\"CV Accuracy (mean ± SE)\")\n",
        "plt.title(\"Custom RFECV with 5×5 Repeats\")\n",
        "plt.grid(True)\n",
        "plt.tight_layout()\n",
        "plt.show()\n"
      ]
    },
    {
      "cell_type": "code",
      "execution_count": 7,
      "metadata": {},
      "outputs": [],
      "source": [
        "summary.to_csv(\"summary_1se_svm_fix.csv\", index=False)"
      ]
    },
    {
      "cell_type": "code",
      "execution_count": null,
      "metadata": {},
      "outputs": [
        {
          "name": "stdout",
          "output_type": "stream",
          "text": [
            "✅ Best score (mean CV accuracy): 0.8439\n",
            "✅ Best SE: 0.001\n",
            "🎯 1-SE Threshold: 0.8429\n",
            "🔍 Parsimonious number of features: 25.0\n",
            "📈 Accuracy at that point: 0.8431\n"
          ]
        }
      ],
      "source": [
        "# 1. Akurasi terbaik dan SE-nya\n",
        "best_row = summary.loc[summary['mean'].idxmax()]\n",
        "best_score = best_row['mean']\n",
        "best_se = best_row['se']\n",
        "threshold = best_score - best_se\n",
        "\n",
        "# 2. Cari jumlah fitur paling sedikit dengan akurasi >= threshold\n",
        "parsimonious_row = summary[summary['mean'] >= threshold].iloc[0]\n",
        "\n",
        "# 3. Hasil akhir\n",
        "print(\"✅ Best score (mean CV accuracy):\", round(best_score, 4))\n",
        "print(\"✅ Best SE:\", round(best_se, 4))\n",
        "print(\"🎯 1-SE Threshold:\", round(threshold, 4))\n",
        "print(\"🔍 Parsimonious number of features:\", parsimonious_row['n_features'])\n",
        "print(\"📈 Accuracy at that point:\", round(parsimonious_row['mean'], 4))\n"
      ]
    },
    {
      "cell_type": "code",
      "execution_count": null,
      "metadata": {},
      "outputs": [
        {
          "name": "stdout",
          "output_type": "stream",
          "text": [
            "\n",
            "Fitur terpilih untuk k=25 (menggunakan LinearSVC):\n",
            "1. chroma_1\n",
            "2. chroma_2\n",
            "3. chroma_4\n",
            "4. chroma_9\n",
            "5. chroma_10\n",
            "6. chroma_11\n",
            "7. rms_mean\n",
            "8. spectral_centroid_mean\n",
            "9. spectral_bandwidth_mean\n",
            "10. spectral_rolloff_mean\n",
            "11. zcr_mean\n",
            "12. mfcc_1\n",
            "13. mfcc_2\n",
            "14. mfcc_3\n",
            "15. mfcc_4\n",
            "16. mfcc_5\n",
            "17. mfcc_6\n",
            "18. mfcc_7\n",
            "19. mfcc_9\n",
            "20. mfcc_11\n",
            "21. mfcc_12\n",
            "22. mfcc_13\n",
            "23. mfcc_14\n",
            "24. mfcc_15\n",
            "25. mfcc_18\n"
          ]
        }
      ],
      "source": [
        "# Inisialisasi model SVM linear\n",
        "svm = LinearSVC(C=1.0, max_iter=5000, dual=False, random_state=42)\n",
        "\n",
        "# Pastikan X_train dalam bentuk DataFrame\n",
        "feature_names = X_train.columns\n",
        "\n",
        "k = 25\n",
        "rfe = RFE(estimator=svm, n_features_to_select=k, step=1)\n",
        "rfe.fit(X_train, y_train)\n",
        "\n",
        "# Ambil nama fitur yang terpilih\n",
        "selected_features = feature_names[rfe.support_]\n",
        "\n",
        "# Cetak hasil\n",
        "print(f\"\\nFitur terpilih untuk k={k} (menggunakan LinearSVC):\")\n",
        "for i, name in enumerate(selected_features, 1):\n",
        "    print(f\"{i}. {name}\")\n"
      ]
    },
    {
      "cell_type": "code",
      "execution_count": null,
      "metadata": {},
      "outputs": [],
      "source": [
        "pd.Series(selected_features).reset_index().to_clipboard()"
      ]
    }
  ],
  "metadata": {
    "colab": {
      "provenance": []
    },
    "kernelspec": {
      "display_name": "newenv2",
      "language": "python",
      "name": "python3"
    },
    "language_info": {
      "codemirror_mode": {
        "name": "ipython",
        "version": 3
      },
      "file_extension": ".py",
      "mimetype": "text/x-python",
      "name": "python",
      "nbconvert_exporter": "python",
      "pygments_lexer": "ipython3",
      "version": "3.9.18"
    }
  },
  "nbformat": 4,
  "nbformat_minor": 0
}
