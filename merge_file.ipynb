{
 "cells": [
  {
   "cell_type": "code",
   "execution_count": 2,
   "id": "c7edf2d5",
   "metadata": {},
   "outputs": [],
   "source": [
    "import nbformat"
   ]
  },
  {
   "cell_type": "code",
   "execution_count": 4,
   "id": "e7c78ed2",
   "metadata": {},
   "outputs": [],
   "source": [
    "with open(\"Tuning_CNN.ipynb\", \"r\", encoding='utf-8') as f1:\n",
    "    nb1 = nbformat.read(f1, as_version=4)"
   ]
  },
  {
   "cell_type": "code",
   "execution_count": 6,
   "id": "b6c54aac",
   "metadata": {},
   "outputs": [],
   "source": [
    "with open(\"Tuning_CNN_LSTM.ipynb\", \"r\", encoding='utf-8') as f2:\n",
    "    nb2 = nbformat.read(f2, as_version=4)"
   ]
  },
  {
   "cell_type": "code",
   "execution_count": 7,
   "id": "520cf874",
   "metadata": {},
   "outputs": [],
   "source": [
    "merged_nb = nbformat.v4.new_notebook()"
   ]
  },
  {
   "cell_type": "code",
   "execution_count": 10,
   "id": "8c8a805c",
   "metadata": {},
   "outputs": [],
   "source": [
    "merged_nb.cells = nb1.cells+nb2.cells"
   ]
  },
  {
   "cell_type": "code",
   "execution_count": 11,
   "id": "083fccf5",
   "metadata": {},
   "outputs": [
    {
     "name": "stderr",
     "output_type": "stream",
     "text": [
      "d:\\Anacondas\\envs\\newenv2\\lib\\site-packages\\nbformat\\__init__.py:132: MissingIDFieldWarning: Cell is missing an id field, this will become a hard error in future nbformat versions. You may want to use `normalize()` on your notebooks before validations (available since nbformat 5.1.4). Previous versions of nbformat are fixing this issue transparently, and will stop doing so in the future.\n",
      "  validate(nb)\n"
     ]
    }
   ],
   "source": [
    "with open('merged_notebook.ipynb', 'w', encoding='utf-8') as f_out:\n",
    "    nbformat.write(merged_nb, f_out)"
   ]
  },
  {
   "cell_type": "code",
   "execution_count": null,
   "id": "8ab709d7",
   "metadata": {},
   "outputs": [],
   "source": []
  }
 ],
 "metadata": {
  "kernelspec": {
   "display_name": "newenv2",
   "language": "python",
   "name": "python3"
  },
  "language_info": {
   "codemirror_mode": {
    "name": "ipython",
    "version": 3
   },
   "file_extension": ".py",
   "mimetype": "text/x-python",
   "name": "python",
   "nbconvert_exporter": "python",
   "pygments_lexer": "ipython3",
   "version": "3.9.18"
  }
 },
 "nbformat": 4,
 "nbformat_minor": 5
}
